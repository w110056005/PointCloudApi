{
 "cells": [
  {
   "cell_type": "code",
   "execution_count": 1,
   "metadata": {},
   "outputs": [
    {
     "name": "stdout",
     "output_type": "stream",
     "text": [
      "Predicted classes: [1, 1, 3, 1, 2, 1, 2, 3, 2, 3, 1, 3, 1, 2, 1, 2, 2, 2, 1, 2, 1, 2, 2, 3, 3, 3, 2, 2, 2, 1, 1, 2, 3, 1, 1, 1, 3, 3, 2, 3, 1, 2, 2, 2, 3, 1, 2, 2, 3, 1, 2, 1, 1, 3, 3, 2, 2, 1, 2, 1, 3, 2, 2, 3, 1, 1, 1, 3, 1, 1, 2, 3, 2, 1, 3, 2, 1, 3, 2, 2, 1, 2, 1, 1, 2, 2, 1, 3, 2]\n",
      "Training Set Score: 0.9775280898876404\n",
      "Test Set Score: 0.9887640449438202\n"
     ]
    }
   ],
   "source": [
    "import numpy as np\n",
    "import cv2\n",
    "import pandas as pd\n",
    "from sklearn.model_selection import train_test_split\n",
    "\n",
    "class NaiveBayes:\n",
    "    def fit(self, X_train, y_train):\n",
    "        self.X_train = X_train\n",
    "        self.y_train = y_train\n",
    "        self.classes = np.unique(y_train)\n",
    "        self.mean = {}\n",
    "        self.var = {}\n",
    "        self.prior = {}\n",
    "        for c in self.classes:\n",
    "            X_c = X_train[y_train == c]\n",
    "            self.mean[str(c)] = np.mean(X_c, axis=0)\n",
    "            self.var[str(c)] = np.var(X_c, axis=0)\n",
    "            self.prior[str(c)] = X_c.shape[0] / X_train.shape[0]\n",
    "\n",
    "    def predict(self, X_test):\n",
    "        y_pred = []\n",
    "        for x in X_test:\n",
    "            posteriors = []\n",
    "            for c in self.classes:\n",
    "                prior = np.log(self.prior[str(c)])\n",
    "                likelihood = np.sum(np.log(self.pdf(x, self.mean[str(c)], self.var[str(c)])))\n",
    "                posterior = prior + likelihood\n",
    "                posteriors.append(posterior)\n",
    "            y_pred.append(self.classes[np.argmax(posteriors)])\n",
    "        return y_pred\n",
    "    # 概率密度方程 (probability density function, PDF)\n",
    "    def pdf(self, x, mean, var):\n",
    "        exponent = np.exp(-((x - mean) ** 2 / (2 * var + 1e-9)))\n",
    "        return (1 / np.sqrt(2 * np.pi * var + 1e-9)) * exponent\n",
    "    \n",
    "    def score(self, X_test, y_test):\n",
    "        y_pred = self.predict(X_test)\n",
    "        accuracy = np.sum(y_pred == y_test) / len(y_test)\n",
    "        return accuracy\n",
    "\n",
    "# read data\n",
    "data = pd.read_csv('wine_data.csv',header=None, delimiter=\",\")\n",
    "# 第一行為label 顯示 酒的總類\n",
    "label=data[0]\n",
    "# 其13行分別為13總酒成分特徵\n",
    "feature=data.iloc[:, 1:]\n",
    "\n",
    "# Splitting the dataset into training and testing subsets\n",
    "# 切分訓練集和測試集各半\n",
    "X_train, X_test, y_train, y_test = train_test_split(feature, label, test_size=0.5, random_state=42)\n",
    "X_train=np.array(X_train)\n",
    "X_test=np.array(X_test)\n",
    "y_train=np.array(y_train)\n",
    "y_test=np.array(y_test)\n",
    "\n",
    "# Train the classifier\n",
    "nb = NaiveBayes()\n",
    "nb.fit(X_train, y_train)\n",
    "\n",
    "# Predict the classes of the test data\n",
    "y_pred = nb.predict(X_test)\n",
    "\n",
    "# Calculate the accuracy of the classifier\n",
    "accuracy = nb.score(X_test, y_test)\n",
    "\n",
    "# Print the predicted classes and accuracy\n",
    "print(\"Predicted classes:\", y_pred)\n",
    "print('Training Set Score:',nb.score(X_train,y_train))\n",
    "print('Test Set Score:',nb.score(X_test,y_test))"
   ]
  },
  {
   "cell_type": "code",
   "execution_count": 2,
   "metadata": {},
   "outputs": [
    {
     "name": "stdout",
     "output_type": "stream",
     "text": [
      "Training Set Score: 0.9775280898876404\n",
      "Test Set Score: 0.9887640449438202\n"
     ]
    }
   ],
   "source": [
    "from sklearn.naive_bayes import GaussianNB\n",
    "\n",
    "modelg=GaussianNB()\n",
    "modelg.fit(X_train,y_train)\n",
    "modelg.predict(X_test)\n",
    "modelg.predict_proba(X_test)\n",
    "print('Training Set Score:',modelg.score(X_train,y_train))\n",
    "print('Test Set Score:',modelg.score(X_test,y_test))"
   ]
  }
 ],
 "metadata": {
  "kernelspec": {
   "display_name": "base",
   "language": "python",
   "name": "python3"
  },
  "language_info": {
   "codemirror_mode": {
    "name": "ipython",
    "version": 3
   },
   "file_extension": ".py",
   "mimetype": "text/x-python",
   "name": "python",
   "nbconvert_exporter": "python",
   "pygments_lexer": "ipython3",
   "version": "3.9.12"
  },
  "orig_nbformat": 4
 },
 "nbformat": 4,
 "nbformat_minor": 2
}
